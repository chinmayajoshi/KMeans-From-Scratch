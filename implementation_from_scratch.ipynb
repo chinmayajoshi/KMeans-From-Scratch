{
 "cells": [
  {
   "cell_type": "code",
   "execution_count": 28,
   "metadata": {},
   "outputs": [],
   "source": [
    "import numpy as np\n",
    "import matplotlib.pyplot as plt"
   ]
  },
  {
   "cell_type": "code",
   "execution_count": 166,
   "metadata": {},
   "outputs": [],
   "source": [
    "class KMeans:\n",
    "\n",
    "    def __init__(self, pts=False, k=1, step_dist=0.001, max_iter=200, make_plot=True):    \n",
    "        if not pts:\n",
    "            pts = np.random.randn(10, 2)\n",
    "\n",
    "        self.k = k\n",
    "        self.pts = pts\n",
    "        self.step_dist = step_dist\n",
    "        self.max_iter = max_iter\n",
    "        self.make_plot = make_plot\n",
    "        self.n = len(self.pts[0])\n",
    "        self.k_centers = []\n",
    "        # for _ in range(self.k): self.k_centers.append(np.random.randn(self.n))\n",
    "        self.k_centers = np.random.randn(self.k, self.n)\n",
    "        self.closest_centroid_index_for_pts = []\n",
    "\n",
    "    def l2_norm(self, pt1, pt2):\n",
    "        n1 = len(pt1)\n",
    "        n2 = len(pt2)\n",
    "        if n1 == n2:\n",
    "            total_dist = 0\n",
    "            for i in range(n1):\n",
    "                total_dist += (pt1[i] - pt2[i])**2      \n",
    "            return total_dist**0.5\n",
    "        else: print(f'Point size mismatch: {n1} != {n2}')\n",
    "\n",
    "    def calc_centers(self, update=True):\n",
    "        # current closest center for each point\n",
    "        this_closest_centroid_index_for_pts = []\n",
    "        for pt in self.pts:\n",
    "            dists = []\n",
    "            for kcenter in self.k_centers:\n",
    "                dist = self.l2_norm(pt, kcenter)\n",
    "                dists.append(dist)\n",
    "            this_closest_centroid_index_for_pts.append(np.argmin(dists))\n",
    "\n",
    "        if update:\n",
    "            self.closest_centroid_index_for_pts = this_closest_centroid_index_for_pts\n",
    "\n",
    "    def step(self):\n",
    "        # get mean center of every pts in each cluster\n",
    "        mean_centers_for_each_cluster = []\n",
    "        for ki in range(self.k):\n",
    "            pts_in_k = []\n",
    "            for idx, pt in enumerate(self.pts):\n",
    "                if ki == self.closest_centroid_index_for_pts[idx]:\n",
    "                    pts_in_k.append(pt)\n",
    "\n",
    "            ki_center = np.average(pts_in_k, axis=0)\n",
    "            print(f'{ki}: {ki_center}')\n",
    "            mean_centers_for_each_cluster.append(ki_center)\n",
    "\n",
    "        # move each cluster center towards that by self.step_dist\n",
    "        for idx, k_center in enumerate(self.k_centers):\n",
    "            mean_center_at_k = mean_centers_for_each_cluster[idx]\n",
    "            if len(k_center) == len(mean_center_at_k[0]):\n",
    "                for dim in range(len(k_center)):\n",
    "                    if k_center[dim] > mean_center_at_k[dim]: k_center[dim] -= self.step_dist\n",
    "                    else: k_center[dim] += self.step_dist\n",
    "\n",
    "            else: print(f'something\\'s up with step function: size mismatch')\n",
    "\n",
    "\n",
    "    def plot(self):\n",
    "        xs = self.pts[:, 0]\n",
    "        ys = self.pts[:, 1]\n",
    "\n",
    "        plt.scatter(xs, ys, label='points')\n",
    "\n",
    "        xs = self.k_centers[:, 0]\n",
    "        ys = self.k_centers[:, 0]\n",
    "        plt.scatter(xs, ys, label='centers')\n",
    "\n",
    "        plt.legend()\n",
    "\n",
    "    def train(self):\n",
    "        self.calc_centers()\n",
    "        i = self.max_iter\n",
    "        while i > 0:\n",
    "            self.step()\n",
    "            if self.make_plot and i%10: self.plot()\n",
    "            i-=1"
   ]
  },
  {
   "cell_type": "code",
   "execution_count": 167,
   "metadata": {},
   "outputs": [
    {
     "data": {
      "image/png": "[encoded data removed]",
      "text/plain": [
       "<Figure size 640x480 with 1 Axes>"
      ]
     },
     "metadata": {},
     "output_type": "display_data"
    }
   ],
   "source": [
    "model = KMeans(k=2)\n",
    "model.plot()"
   ]
  },
  {
   "cell_type": "code",
   "execution_count": 168,
   "metadata": {},
   "outputs": [
    {
     "name": "stdout",
     "output_type": "stream",
     "text": [
      "0: [ 0.62731681 -0.32253235]\n",
      "1: [-0.19505722 -0.70019691]\n"
     ]
    },
    {
     "ename": "TypeError",
     "evalue": "object of type 'numpy.float64' has no len()",
     "output_type": "error",
     "traceback": [
      "\u001b[1;31m---------------------------------------------------------------------------\u001b[0m",
      "\u001b[1;31mTypeError\u001b[0m                                 Traceback (most recent call last)",
      "Cell \u001b[1;32mIn[168], line 1\u001b[0m\n\u001b[1;32m----> 1\u001b[0m \u001b[43mmodel\u001b[49m\u001b[38;5;241;43m.\u001b[39;49m\u001b[43mtrain\u001b[49m\u001b[43m(\u001b[49m\u001b[43m)\u001b[49m\n",
      "Cell \u001b[1;32mIn[166], line 81\u001b[0m, in \u001b[0;36mKMeans.train\u001b[1;34m(self)\u001b[0m\n\u001b[0;32m     79\u001b[0m i \u001b[38;5;241m=\u001b[39m \u001b[38;5;28mself\u001b[39m\u001b[38;5;241m.\u001b[39mmax_iter\n\u001b[0;32m     80\u001b[0m \u001b[38;5;28;01mwhile\u001b[39;00m i \u001b[38;5;241m>\u001b[39m \u001b[38;5;241m0\u001b[39m:\n\u001b[1;32m---> 81\u001b[0m     \u001b[38;5;28;43mself\u001b[39;49m\u001b[38;5;241;43m.\u001b[39;49m\u001b[43mstep\u001b[49m\u001b[43m(\u001b[49m\u001b[43m)\u001b[49m\n\u001b[0;32m     82\u001b[0m     \u001b[38;5;28;01mif\u001b[39;00m \u001b[38;5;28mself\u001b[39m\u001b[38;5;241m.\u001b[39mmake_plot \u001b[38;5;129;01mand\u001b[39;00m i\u001b[38;5;241m%\u001b[39m\u001b[38;5;241m10\u001b[39m: \u001b[38;5;28mself\u001b[39m\u001b[38;5;241m.\u001b[39mplot()\n\u001b[0;32m     83\u001b[0m     i\u001b[38;5;241m-\u001b[39m\u001b[38;5;241m=\u001b[39m\u001b[38;5;241m1\u001b[39m\n",
      "Cell \u001b[1;32mIn[166], line 57\u001b[0m, in \u001b[0;36mKMeans.step\u001b[1;34m(self)\u001b[0m\n\u001b[0;32m     55\u001b[0m \u001b[38;5;28;01mfor\u001b[39;00m idx, k_center \u001b[38;5;129;01min\u001b[39;00m \u001b[38;5;28menumerate\u001b[39m(\u001b[38;5;28mself\u001b[39m\u001b[38;5;241m.\u001b[39mk_centers):\n\u001b[0;32m     56\u001b[0m     mean_center_at_k \u001b[38;5;241m=\u001b[39m mean_centers_for_each_cluster[idx]\n\u001b[1;32m---> 57\u001b[0m     \u001b[38;5;28;01mif\u001b[39;00m \u001b[38;5;28mlen\u001b[39m(k_center) \u001b[38;5;241m==\u001b[39m \u001b[38;5;28;43mlen\u001b[39;49m\u001b[43m(\u001b[49m\u001b[43mmean_center_at_k\u001b[49m\u001b[43m[\u001b[49m\u001b[38;5;241;43m0\u001b[39;49m\u001b[43m]\u001b[49m\u001b[43m)\u001b[49m:\n\u001b[0;32m     58\u001b[0m         \u001b[38;5;28;01mfor\u001b[39;00m dim \u001b[38;5;129;01min\u001b[39;00m \u001b[38;5;28mrange\u001b[39m(\u001b[38;5;28mlen\u001b[39m(k_center)):\n\u001b[0;32m     59\u001b[0m             \u001b[38;5;28;01mif\u001b[39;00m k_center[dim] \u001b[38;5;241m>\u001b[39m mean_center_at_k[dim]: k_center[dim] \u001b[38;5;241m-\u001b[39m\u001b[38;5;241m=\u001b[39m \u001b[38;5;28mself\u001b[39m\u001b[38;5;241m.\u001b[39mstep_dist\n",
      "\u001b[1;31mTypeError\u001b[0m: object of type 'numpy.float64' has no len()"
     ]
    }
   ],
   "source": [
    "model.train()"
   ]
  },
  {
   "cell_type": "code",
   "execution_count": 153,
   "metadata": {},
   "outputs": [
    {
     "data": {
      "text/plain": [
       "[]"
      ]
     },
     "execution_count": 153,
     "metadata": {},
     "output_type": "execute_result"
    }
   ],
   "source": [
    "model.closest_centroid_index_for_pts"
   ]
  },
  {
   "cell_type": "code",
   "execution_count": 130,
   "metadata": {},
   "outputs": [
    {
     "name": "stdout",
     "output_type": "stream",
     "text": [
      "[-1.05135446 -1.34060867]\n",
      "[0.56267437 0.71384812]\n",
      "\n",
      "[-0.95392273  0.56029175]\n",
      "[1.95035024 1.48778189]\n",
      "[ 0.30805055 -1.12083099]\n",
      "[-0.38026142  0.49774712]\n",
      "[ 1.49880701 -0.32502672]\n",
      "[ 1.01635373 -0.01363277]\n",
      "[1.69382596 0.85722819]\n",
      "[-0.5835772   1.28324725]\n",
      "[-0.39338966 -0.63229174]\n",
      "[0.35699457 0.85852314]\n"
     ]
    }
   ],
   "source": [
    "for x in model.k_centers:\n",
    "    print(x)\n",
    "print()\n",
    "for y in model.pts:\n",
    "    print(y)"
   ]
  },
  {
   "cell_type": "code",
   "execution_count": 140,
   "metadata": {},
   "outputs": [
    {
     "name": "stdout",
     "output_type": "stream",
     "text": [
      "[ 2.11199103  0.00514637  1.47750967  0.77039669  1.99925306  0.26167441\n",
      " -0.28140826  1.96618647  0.38846123 -0.11739124]\n",
      "6\n"
     ]
    }
   ],
   "source": [
    "x = np.random.randn(10)\n",
    "print(x)\n",
    "print(np.argmin(x))"
   ]
  },
  {
   "cell_type": "code",
   "execution_count": null,
   "metadata": {},
   "outputs": [],
   "source": []
  },
  {
   "cell_type": "code",
   "execution_count": null,
   "metadata": {},
   "outputs": [],
   "source": []
  },
  {
   "cell_type": "code",
   "execution_count": null,
   "metadata": {},
   "outputs": [],
   "source": []
  },
  {
   "cell_type": "code",
   "execution_count": 42,
   "metadata": {},
   "outputs": [
    {
     "name": "stderr",
     "output_type": "stream",
     "text": [
      "C:\\Users\\chinm\\AppData\\Local\\Temp\\ipykernel_19744\\3682269968.py:6: UserWarning: No data for colormapping provided via 'c'. Parameters 'cmap' will be ignored\n",
      "  plt.scatter(center[0], center[1], cmap='green')\n"
     ]
    },
    {
     "data": {
      "text/plain": [
       "<matplotlib.collections.PathCollection at 0x1f3948fc490>"
      ]
     },
     "execution_count": 42,
     "metadata": {},
     "output_type": "execute_result"
    },
    {
     "data": {
      "image/png": "[encoded data removed]",
      "text/plain": [
       "<Figure size 640x480 with 1 Axes>"
      ]
     },
     "metadata": {},
     "output_type": "display_data"
    }
   ],
   "source": [
    "pts = np.random.randn(20, 2)\n",
    "xs = pts[:, 0]\n",
    "ys = pts[:, 1]\n",
    "center = np.average(pts, axis=0)\n",
    "plt.scatter(xs, ys)\n",
    "plt.scatter(center[0], center[1], cmap='green')"
   ]
  },
  {
   "cell_type": "code",
   "execution_count": null,
   "metadata": {},
   "outputs": [],
   "source": []
  }
 ],
 "metadata": {
  "kernelspec": {
   "display_name": "Python 3",
   "language": "python",
   "name": "python3"
  },
  "language_info": {
   "codemirror_mode": {
    "name": "ipython",
    "version": 3
   },
   "file_extension": ".py",
   "mimetype": "text/x-python",
   "name": "python",
   "nbconvert_exporter": "python",
   "pygments_lexer": "ipython3",
   "version": "3.8.16"
  }
 },
 "nbformat": 4,
 "nbformat_minor": 2
}
