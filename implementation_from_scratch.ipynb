{
 "cells": [
  {
   "cell_type": "code",
   "execution_count": 28,
   "metadata": {},
   "outputs": [],
   "source": [
    "import numpy as np\n",
    "import matplotlib.pyplot as plt"
   ]
  },
  {
   "cell_type": "code",
   "execution_count": 88,
   "metadata": {},
   "outputs": [],
   "source": [
    "class KMeans:\n",
    "\n",
    "    def __init__(self, pts=False, k=1, step_dist=0.001, max_iter=200, make_plot=True):    \n",
    "        if not pts:\n",
    "            pts = np.random.randn(10, 2)\n",
    "\n",
    "        self.k = k\n",
    "        self.pts = pts\n",
    "        self.step_dist = step_dist\n",
    "        self.max_iter = max_iter\n",
    "        self.make_plot = make_plot\n",
    "        self.n = len(self.pts[0])\n",
    "        self.k_centers = []\n",
    "        for _ in range(self.k): self.k_centers.append(np.random.randn(self.n))\n",
    "        self.closest_centroid_index_for_pts = []\n",
    "\n",
    "    def l2_norm(self, pt1, pt2):\n",
    "        n1 = len(pt1)\n",
    "        n2 = len(pt2)\n",
    "        if n1 == n2:\n",
    "            total_dist = 0\n",
    "            for i in range(n1):\n",
    "                total_dist += (pt1[i] - pt2[i])**2      \n",
    "            return total_dist**0.5\n",
    "        else: print(f'Point size mismatch: {n1} != {n2}')\n",
    "\n",
    "    def calc_centers(self, update=True):\n",
    "        # current closest center for each point\n",
    "        this_closest_centroid_index_for_pts = []\n",
    "        for pt in self.pts:\n",
    "            dists = []\n",
    "            for kcenter in self.k_centers:\n",
    "                dist = self.l2_norm(pt, kcenter)\n",
    "                dists.append(dist)\n",
    "            this_closest_centroid_index_for_pts.append(np.argmin(dist))\n",
    "\n",
    "        if update:\n",
    "            self.closest_centroid_index_for_pts = this_closest_centroid_index_for_pts\n",
    "\n",
    "    def step(self):\n",
    "        # get mean center of every pts in each cluster\n",
    "        mean_centers_for_each_cluster = []\n",
    "        for ki in range(self.k):\n",
    "            pts_in_k = []\n",
    "            for idx, pt in enumerate(self.pts):\n",
    "                if ki == self.closest_centroid_index_for_pts[idx]:\n",
    "                    pts_in_k.append(self.pts)\n",
    "\n",
    "            ki_center = np.average(pts_in_k, axis=0)\n",
    "            print(f'{ki}: {ki_center}')\n",
    "            mean_centers_for_each_cluster.append(ki_center)\n",
    "\n",
    "        # move each cluster center towards that by self.step_dist\n",
    "        for idx, k_center in enumerate(self.k_centers):\n",
    "            mean_center_at_k = mean_centers_for_each_cluster[idx]\n",
    "            if len(k_center) == len(mean_center_at_k[0]):\n",
    "                for dim in range(len(k_center)):\n",
    "                    if k_center[dim] > mean_center_at_k[dim]: k_center[dim] -= self.step_dist\n",
    "                    else: k_center[dim] += self.step_dist\n",
    "\n",
    "            else: print(f'something\\'s up with step function: size mismatch')\n",
    "\n",
    "\n",
    "    def plot(self):\n",
    "        pass\n",
    "\n",
    "    def train(self):\n",
    "        self.calc_centers()\n",
    "        i = self.max_iter\n",
    "        while i > 0:\n",
    "            self.step()\n",
    "            if self.make_plot and i%10: self.plot()\n",
    "            i-=1"
   ]
  },
  {
   "cell_type": "code",
   "execution_count": 89,
   "metadata": {},
   "outputs": [
    {
     "data": {
      "text/plain": [
       "<matplotlib.collections.PathCollection at 0x1f394b04ca0>"
      ]
     },
     "execution_count": 89,
     "metadata": {},
     "output_type": "execute_result"
    },
    {
     "data": {
      "image/png": "[encoded data removed]",
      "text/plain": [
       "<Figure size 640x480 with 1 Axes>"
      ]
     },
     "metadata": {},
     "output_type": "display_data"
    }
   ],
   "source": [
    "model = KMeans(k=2)\n",
    "xs = model.pts[:, 0]\n",
    "ys = model.pts[:, 1]\n",
    "\n",
    "plt.scatter(xs, ys)"
   ]
  },
  {
   "cell_type": "code",
   "execution_count": 90,
   "metadata": {},
   "outputs": [
    {
     "ename": "ValueError",
     "evalue": "The truth value of an array with more than one element is ambiguous. Use a.any() or a.all()",
     "output_type": "error",
     "traceback": [
      "\u001b[1;31m---------------------------------------------------------------------------\u001b[0m",
      "\u001b[1;31mValueError\u001b[0m                                Traceback (most recent call last)",
      "Cell \u001b[1;32mIn[90], line 1\u001b[0m\n\u001b[1;32m----> 1\u001b[0m \u001b[43mmodel\u001b[49m\u001b[38;5;241;43m.\u001b[39;49m\u001b[43mtrain\u001b[49m\u001b[43m(\u001b[49m\u001b[43m)\u001b[49m\n",
      "Cell \u001b[1;32mIn[88], line 70\u001b[0m, in \u001b[0;36mKMeans.train\u001b[1;34m(self)\u001b[0m\n\u001b[0;32m     68\u001b[0m i \u001b[38;5;241m=\u001b[39m \u001b[38;5;28mself\u001b[39m\u001b[38;5;241m.\u001b[39mmax_iter\n\u001b[0;32m     69\u001b[0m \u001b[38;5;28;01mwhile\u001b[39;00m i \u001b[38;5;241m>\u001b[39m \u001b[38;5;241m0\u001b[39m:\n\u001b[1;32m---> 70\u001b[0m     \u001b[38;5;28;43mself\u001b[39;49m\u001b[38;5;241;43m.\u001b[39;49m\u001b[43mstep\u001b[49m\u001b[43m(\u001b[49m\u001b[43m)\u001b[49m\n\u001b[0;32m     71\u001b[0m     \u001b[38;5;28;01mif\u001b[39;00m \u001b[38;5;28mself\u001b[39m\u001b[38;5;241m.\u001b[39mmake_plot \u001b[38;5;129;01mand\u001b[39;00m i\u001b[38;5;241m%\u001b[39m\u001b[38;5;241m10\u001b[39m: \u001b[38;5;28mself\u001b[39m\u001b[38;5;241m.\u001b[39mplot()\n\u001b[0;32m     72\u001b[0m     i\u001b[38;5;241m-\u001b[39m\u001b[38;5;241m=\u001b[39m\u001b[38;5;241m1\u001b[39m\n",
      "Cell \u001b[1;32mIn[88], line 57\u001b[0m, in \u001b[0;36mKMeans.step\u001b[1;34m(self)\u001b[0m\n\u001b[0;32m     55\u001b[0m \u001b[38;5;28;01mif\u001b[39;00m \u001b[38;5;28mlen\u001b[39m(k_center) \u001b[38;5;241m==\u001b[39m \u001b[38;5;28mlen\u001b[39m(mean_center_at_k[\u001b[38;5;241m0\u001b[39m]):\n\u001b[0;32m     56\u001b[0m     \u001b[38;5;28;01mfor\u001b[39;00m dim \u001b[38;5;129;01min\u001b[39;00m \u001b[38;5;28mrange\u001b[39m(\u001b[38;5;28mlen\u001b[39m(k_center)):\n\u001b[1;32m---> 57\u001b[0m         \u001b[38;5;28;01mif\u001b[39;00m \u001b[43mk_center\u001b[49m\u001b[43m[\u001b[49m\u001b[43mdim\u001b[49m\u001b[43m]\u001b[49m\u001b[43m \u001b[49m\u001b[38;5;241;43m>\u001b[39;49m\u001b[43m \u001b[49m\u001b[43mmean_center_at_k\u001b[49m\u001b[43m[\u001b[49m\u001b[43mdim\u001b[49m\u001b[43m]\u001b[49m: k_center[dim] \u001b[38;5;241m-\u001b[39m\u001b[38;5;241m=\u001b[39m \u001b[38;5;28mself\u001b[39m\u001b[38;5;241m.\u001b[39mstep_dist\n\u001b[0;32m     58\u001b[0m         \u001b[38;5;28;01melse\u001b[39;00m: k_center[dim] \u001b[38;5;241m+\u001b[39m\u001b[38;5;241m=\u001b[39m \u001b[38;5;28mself\u001b[39m\u001b[38;5;241m.\u001b[39mstep_dist\n\u001b[0;32m     60\u001b[0m \u001b[38;5;28;01melse\u001b[39;00m: \u001b[38;5;28mprint\u001b[39m(\u001b[38;5;124mf\u001b[39m\u001b[38;5;124m'\u001b[39m\u001b[38;5;124msomething\u001b[39m\u001b[38;5;130;01m\\'\u001b[39;00m\u001b[38;5;124ms up with step function: size mismatch\u001b[39m\u001b[38;5;124m'\u001b[39m)\n",
      "\u001b[1;31mValueError\u001b[0m: The truth value of an array with more than one element is ambiguous. Use a.any() or a.all()"
     ]
    }
   ],
   "source": [
    "model.train()"
   ]
  },
  {
   "cell_type": "code",
   "execution_count": 91,
   "metadata": {},
   "outputs": [
    {
     "name": "stdout",
     "output_type": "stream",
     "text": [
      "[ 1.92230393 -1.77403839]\n",
      "[ 0.22473507 -0.14666309]\n",
      "\n",
      "[-0.27012351  1.43031814]\n",
      "[ 0.09655759 -0.55206172]\n",
      "[ 0.73583119 -0.43521487]\n",
      "[ 0.07754613 -1.08240867]\n",
      "[-0.88803951 -0.98435122]\n",
      "[-0.05576861 -0.89656642]\n",
      "[ 0.79359714 -1.80262883]\n",
      "[1.07080349 0.38270423]\n",
      "[ 0.90512567 -0.57888751]\n",
      "[-1.10592206 -1.26653281]\n"
     ]
    }
   ],
   "source": [
    "for x in model.k_centers:\n",
    "    print(x)\n",
    "print()\n",
    "for y in model.pts:\n",
    "    print(y)"
   ]
  },
  {
   "cell_type": "code",
   "execution_count": 94,
   "metadata": {},
   "outputs": [
    {
     "data": {
      "text/plain": [
       "-1.1862274328372329"
      ]
     },
     "execution_count": 94,
     "metadata": {},
     "output_type": "execute_result"
    }
   ],
   "source": [
    "np.average(y, axis=0)"
   ]
  },
  {
   "cell_type": "code",
   "execution_count": 96,
   "metadata": {},
   "outputs": [
    {
     "data": {
      "text/plain": [
       "array([ 0.13596075, -0.57856297])"
      ]
     },
     "execution_count": 96,
     "metadata": {},
     "output_type": "execute_result"
    }
   ],
   "source": [
    "np.average(model.pts, axis=0)"
   ]
  },
  {
   "cell_type": "code",
   "execution_count": null,
   "metadata": {},
   "outputs": [],
   "source": []
  },
  {
   "cell_type": "code",
   "execution_count": null,
   "metadata": {},
   "outputs": [],
   "source": []
  },
  {
   "cell_type": "code",
   "execution_count": null,
   "metadata": {},
   "outputs": [],
   "source": []
  },
  {
   "cell_type": "code",
   "execution_count": null,
   "metadata": {},
   "outputs": [],
   "source": []
  },
  {
   "cell_type": "code",
   "execution_count": 42,
   "metadata": {},
   "outputs": [
    {
     "name": "stderr",
     "output_type": "stream",
     "text": [
      "C:\\Users\\chinm\\AppData\\Local\\Temp\\ipykernel_19744\\3682269968.py:6: UserWarning: No data for colormapping provided via 'c'. Parameters 'cmap' will be ignored\n",
      "  plt.scatter(center[0], center[1], cmap='green')\n"
     ]
    },
    {
     "data": {
      "text/plain": [
       "<matplotlib.collections.PathCollection at 0x1f3948fc490>"
      ]
     },
     "execution_count": 42,
     "metadata": {},
     "output_type": "execute_result"
    },
    {
     "data": {
      "image/png": "[encoded data removed]",
      "text/plain": [
       "<Figure size 640x480 with 1 Axes>"
      ]
     },
     "metadata": {},
     "output_type": "display_data"
    }
   ],
   "source": [
    "pts = np.random.randn(20, 2)\n",
    "xs = pts[:, 0]\n",
    "ys = pts[:, 1]\n",
    "center = np.average(pts, axis=0)\n",
    "plt.scatter(xs, ys)\n",
    "plt.scatter(center[0], center[1], cmap='green')"
   ]
  },
  {
   "cell_type": "code",
   "execution_count": null,
   "metadata": {},
   "outputs": [],
   "source": []
  }
 ],
 "metadata": {
  "kernelspec": {
   "display_name": "Python 3",
   "language": "python",
   "name": "python3"
  },
  "language_info": {
   "codemirror_mode": {
    "name": "ipython",
    "version": 3
   },
   "file_extension": ".py",
   "mimetype": "text/x-python",
   "name": "python",
   "nbconvert_exporter": "python",
   "pygments_lexer": "ipython3",
   "version": "3.8.16"
  }
 },
 "nbformat": 4,
 "nbformat_minor": 2
}
